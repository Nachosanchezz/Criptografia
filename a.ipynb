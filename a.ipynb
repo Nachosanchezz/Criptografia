{
 "cells": [
  {
   "cell_type": "code",
   "execution_count": 1,
   "id": "355df64d",
   "metadata": {},
   "outputs": [
    {
     "name": "stdout",
     "output_type": "stream",
     "text": [
      "0000 -> 5961\n",
      "0001 -> 1512\n",
      "0002 -> 1660\n",
      "0003 -> 9301\n",
      "0004 -> 7161\n",
      "0005 -> 9755\n",
      "0006 -> 8244\n",
      "0008 -> 7529\n",
      "0009 -> 6624\n",
      "0010 -> 0072\n"
     ]
    }
   ],
   "source": [
    "import hashlib\n",
    "\n",
    "# Función de reducción\n",
    "def reduce_hash(hash_hex: str, round_num: int) -> str:\n",
    "    partial_int = int(hash_hex[:8], 16)\n",
    "    reduced_value = (partial_int + round_num) % 10000\n",
    "    return f\"{reduced_value:04d}\"\n",
    "\n",
    "# Función que genera el endpoint final de una cadena\n",
    "def build_chain(start_password: str, chain_length: int = 4) -> str:\n",
    "    current = start_password\n",
    "    for round_num in range(chain_length):\n",
    "        hash_hex = hashlib.md5(current.encode()).hexdigest()\n",
    "        current = reduce_hash(hash_hex, round_num)\n",
    "    return current\n",
    "\n",
    "# Construcción de la Rainbow Table\n",
    "def build_rainbow_table(chain_length: int = 4):\n",
    "    table = {}\n",
    "    for i in range(10000):\n",
    "        start = f\"{i:04d}\"\n",
    "        end = build_chain(start, chain_length)\n",
    "        if end not in table:\n",
    "            table[end] = start\n",
    "    return table\n",
    "\n",
    "rainbow_table = build_rainbow_table()\n",
    "\n",
    "# Mostrar primeros 10 elementos\n",
    "for i, (end, start) in enumerate(rainbow_table.items()):\n",
    "    print(f\"{start} -> {end}\")\n",
    "    if i == 9:\n",
    "        break"
   ]
  },
  {
   "cell_type": "code",
   "execution_count": 2,
   "id": "0ee15ccf",
   "metadata": {},
   "outputs": [],
   "source": [
    "# Lista de contraseñas a comprobar\n",
    "passwords_to_test = [\"1234\", \"5678\", \"0000\", \"2025\", \"9999\"]\n",
    "\n",
    "results = []\n",
    "\n",
    "for pwd in passwords_to_test:\n",
    "    endpoint = build_chain(pwd)\n",
    "    candidate_start = rainbow_table.get(endpoint)\n",
    "    hay_colision = candidate_start != pwd if candidate_start else None\n",
    "    results.append({\n",
    "        \"Contraseña real\": pwd,\n",
    "        \"Endpoint obtenido\": endpoint,\n",
    "        \"¿Está en tabla?\": endpoint in rainbow_table,\n",
    "        \"Inicio guardado\": candidate_start,\n",
    "        \"¿Colisión?\": hay_colision\n",
    "    })\n"
   ]
  },
  {
   "cell_type": "code",
   "execution_count": 4,
   "id": "13d3981e",
   "metadata": {},
   "outputs": [
    {
     "name": "stderr",
     "output_type": "stream",
     "text": [
      "\n",
      "[notice] A new release of pip is available: 24.2 -> 25.1.1\n",
      "[notice] To update, run: python.exe -m pip install --upgrade pip\n"
     ]
    },
    {
     "name": "stdout",
     "output_type": "stream",
     "text": [
      "Collecting pandas\n",
      "  Downloading pandas-2.2.3-cp311-cp311-win_amd64.whl.metadata (19 kB)\n",
      "Collecting numpy>=1.23.2 (from pandas)\n",
      "  Downloading numpy-2.2.5-cp311-cp311-win_amd64.whl.metadata (60 kB)\n",
      "Requirement already satisfied: python-dateutil>=2.8.2 in c:\\users\\1cnac\\appdata\\roaming\\python\\python311\\site-packages (from pandas) (2.9.0.post0)\n",
      "Collecting pytz>=2020.1 (from pandas)\n",
      "  Using cached pytz-2025.2-py2.py3-none-any.whl.metadata (22 kB)\n",
      "Requirement already satisfied: tzdata>=2022.7 in c:\\users\\1cnac\\appdata\\local\\programs\\python\\python311\\lib\\site-packages (from pandas) (2024.1)\n",
      "Requirement already satisfied: six>=1.5 in c:\\users\\1cnac\\appdata\\roaming\\python\\python311\\site-packages (from python-dateutil>=2.8.2->pandas) (1.16.0)\n",
      "Downloading pandas-2.2.3-cp311-cp311-win_amd64.whl (11.6 MB)\n",
      "   ---------------------------------------- 0.0/11.6 MB ? eta -:--:--\n",
      "   --------- ------------------------------ 2.6/11.6 MB 13.7 MB/s eta 0:00:01\n",
      "   --------------------------- ------------ 7.9/11.6 MB 19.4 MB/s eta 0:00:01\n",
      "   ---------------------------------------- 11.6/11.6 MB 20.2 MB/s eta 0:00:00\n",
      "Downloading numpy-2.2.5-cp311-cp311-win_amd64.whl (12.9 MB)\n",
      "   ---------------------------------------- 0.0/12.9 MB ? eta -:--:--\n",
      "   ----------------- ---------------------- 5.8/12.9 MB 27.1 MB/s eta 0:00:01\n",
      "   ------------------------------------ --- 11.8/12.9 MB 29.5 MB/s eta 0:00:01\n",
      "   ---------------------------------------- 12.9/12.9 MB 24.6 MB/s eta 0:00:00\n",
      "Using cached pytz-2025.2-py2.py3-none-any.whl (509 kB)\n",
      "Installing collected packages: pytz, numpy, pandas\n",
      "Successfully installed numpy-2.2.5 pandas-2.2.3 pytz-2025.2\n",
      "Note: you may need to restart the kernel to use updated packages.\n",
      "  Contraseña real Endpoint obtenido  ¿Está en tabla? Inicio guardado  \\\n",
      "0            1234              5595             True            1234   \n",
      "1            5678              3002             True            0665   \n",
      "2            0000              5961             True            0000   \n",
      "3            2025              8232             True            0214   \n",
      "4            9999              8113             True            1327   \n",
      "\n",
      "   ¿Colisión?  \n",
      "0       False  \n",
      "1        True  \n",
      "2       False  \n",
      "3        True  \n",
      "4        True  \n"
     ]
    }
   ],
   "source": [
    "%pip install pandas\n",
    "\n",
    "import pandas as pd\n",
    "\n",
    "df = pd.DataFrame(results)\n",
    "print(df)\n"
   ]
  },
  {
   "cell_type": "code",
   "execution_count": null,
   "id": "3bd3e9de",
   "metadata": {},
   "outputs": [],
   "source": []
  }
 ],
 "metadata": {
  "kernelspec": {
   "display_name": "Python 3",
   "language": "python",
   "name": "python3"
  },
  "language_info": {
   "codemirror_mode": {
    "name": "ipython",
    "version": 3
   },
   "file_extension": ".py",
   "mimetype": "text/x-python",
   "name": "python",
   "nbconvert_exporter": "python",
   "pygments_lexer": "ipython3",
   "version": "3.11.0"
  }
 },
 "nbformat": 4,
 "nbformat_minor": 5
}
